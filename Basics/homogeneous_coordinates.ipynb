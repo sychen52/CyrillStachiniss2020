{
 "cells": [
  {
   "cell_type": "markdown",
   "metadata": {},
   "source": [
    "# This is a note for [Homogenous Coordinates (Cyrill Stachniss, 2020)](https://youtu.be/MQdm0Z_gNcw)"
   ]
  },
  {
   "cell_type": "code",
   "execution_count": 2,
   "metadata": {},
   "outputs": [],
   "source": [
    "using LinearAlgebra\n",
    "using Random\n",
    "using Distributions"
   ]
  },
  {
   "cell_type": "code",
   "execution_count": 3,
   "metadata": {},
   "outputs": [],
   "source": [
    "# Homogeneous coordicates have two advantages over Euclidian:\n",
    "# 1) can represent ponit at infinity with direction,\n",
    "# 2) all projective transformations as matrix multiplication.\n",
    "\n",
    "struct EuclidianCoord{T<:Real}\n",
    "    coord::AbstractArray{T}\n",
    "end\n",
    "\n",
    "struct HomogeneousCoord{T<:Real}\n",
    "    coord::AbstractArray{T}\n",
    "    function HomogeneousCoord(coord::AbstractArray{T}) where {T<:Real}\n",
    "        @assert norm(coord) != 0 \"Homogeneous coordicates cannot be all zeros.\"\n",
    "        new{T}(coord)\n",
    "    end\n",
    "end\n",
    "\n",
    "function HomogeneousCoord(p::EuclidianCoord):HomogeneousCoord\n",
    "    HomogeneousCoord([p.coord; [1]])\n",
    "end\n",
    "\n",
    "function EuclidianCoord(p::HomogeneousCoord):EuclidianCoord\n",
    "    EuclidianCoord(p.coord[1:end-1]./p.coord[end])\n",
    "end\n",
    "\n",
    "import Base.==\n",
    "function ==(p1::HomogeneousCoord, p2::HomogeneousCoord):Bool\n",
    "    if size(p1.coord) != size(p2.coord)\n",
    "        return false\n",
    "    end\n",
    "    return p1.coord / norm(p1.coord) == p2.coord / norm(p2.coord)\n",
    "end\n",
    "\n",
    "pe = EuclidianCoord([1,2,3])\n",
    "ph = HomogeneousCoord(pe)\n",
    "pe_back = EuclidianCoord(ph)\n",
    "@assert pe.coord == pe_back.coord\n",
    "@assert HomogeneousCoord([1,2,3,4]) == HomogeneousCoord([2,4,6,8])\n",
    "\n",
    "struct Transformation\n",
    "end"
   ]
  },
  {
   "cell_type": "code",
   "execution_count": null,
   "metadata": {},
   "outputs": [],
   "source": []
  }
 ],
 "metadata": {
  "kernelspec": {
   "display_name": "Julia 1.5.3",
   "language": "julia",
   "name": "julia-1.5"
  },
  "language_info": {
   "file_extension": ".jl",
   "mimetype": "application/julia",
   "name": "julia",
   "version": "1.5.3"
  }
 },
 "nbformat": 4,
 "nbformat_minor": 4
}
