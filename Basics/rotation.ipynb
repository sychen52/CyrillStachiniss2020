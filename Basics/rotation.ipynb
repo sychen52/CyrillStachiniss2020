{
 "cells": [
  {
   "cell_type": "markdown",
   "metadata": {},
   "source": [
    "# This is a note for [3D Coordinates and Representations of Rotations](https://www.youtube.com/watch?v=YXGUGSAv09A&list=PLgnQpQtFTOGQ7eZU0tzmyjSV5w5lt28p8&index=4) (Cyrill Stachniss, 2020): "
   ]
  },
  {
   "cell_type": "code",
   "execution_count": 10,
   "metadata": {},
   "outputs": [],
   "source": [
    "using LinearAlgebra\n",
    "using Random\n",
    "using Distributions"
   ]
  },
  {
   "cell_type": "code",
   "execution_count": 3,
   "metadata": {},
   "outputs": [],
   "source": [
    "struct EuclidianCoord{T<:Real}\n",
    "    coord::AbstractArray{T}\n",
    "end"
   ]
  },
  {
   "cell_type": "markdown",
   "metadata": {},
   "source": [
    "### Two properties of rotation matrix: det(r) == 1; inv(r) == transpose(r)"
   ]
  },
  {
   "cell_type": "code",
   "execution_count": 4,
   "metadata": {},
   "outputs": [
    {
     "data": {
      "text/plain": [
       "Rotation"
      ]
     },
     "execution_count": 4,
     "metadata": {},
     "output_type": "execute_result"
    }
   ],
   "source": [
    "function assert_rotation_matrix(m::AbstractArray)\n",
    "\t@assert det(m) ≈ 1 \"det is $(det(m))\"\n",
    "\t@assert transpose(m) * m ≈ I \"inv is $(inv(m)) and transpose is $(transpose(m))\"\n",
    "\t#@assert all(norm(m, 1) .≈ 1) # this can be proved from the 2nd property\n",
    "end\n",
    "\n",
    "struct Rotation{T<:Real}\n",
    "\tmatrix::AbstractMatrix{T}\n",
    "\tfunction Rotation(m::AbstractMatrix{T}) where {T}\n",
    "\t\tassert_rotation_matrix(m)\n",
    "\t\tnew{T}(m)\n",
    "\tend\n",
    "end\n",
    "\n",
    "# 2d toy example (2d euler to rotation matrix)\n",
    "function Rotation(θ::Real)::Rotation\n",
    "\treturn Rotation([cos(θ) -sin(θ); sin(θ) cos(θ)])\n",
    "end"
   ]
  },
  {
   "cell_type": "markdown",
   "metadata": {},
   "source": [
    "### The order of yaw, pith, and roll matters\n",
    "### cosβ=0 i.e. β=+-90 is a singularity (\"Glimbal Lock\")\n",
    "### Euler angles are unique given a rotation matrix, if the angle is in range -π to π. The rotation matrix is unique given euler angles"
   ]
  },
  {
   "cell_type": "code",
   "execution_count": 5,
   "metadata": {},
   "outputs": [
    {
     "data": {
      "text/plain": [
       "Rotation"
      ]
     },
     "execution_count": 5,
     "metadata": {},
     "output_type": "execute_result"
    }
   ],
   "source": [
    "struct EulerAngle{T<:Real}\n",
    "\tθ::AbstractVector{T}\n",
    "end\n",
    "\n",
    "#Rotation Matrix to Euler angles\n",
    "function EulerAngle(r::Rotation)::EulerAngle\n",
    "\tif r.matrix[3,2] == 0 && r.matrix[3,3] == 0\n",
    "\t\tβ = asin(-r.matrix[3,1])\n",
    "\t\tα = 0\n",
    "\t\tif r.matrix[3,1] < 0 #singularity #2\n",
    "\t\t\tγ = atan(-r.matrix[1,2], r.matrix[1,3])\n",
    "\t\telse\n",
    "\t\t\tγ = atan(-r.matrix[1,2], -r.matrix[1,3])\n",
    "\t\tend\n",
    "\telse\n",
    "\t\tα=atan(r.matrix[3,2], r.matrix[3,3])\n",
    "\t\tβ=atan(-r.matrix[3,1], √(r.matrix[3,2]^2+r.matrix[3,3]^2))\n",
    "\t\tγ=atan(r.matrix[2,1], r.matrix[1,1])\n",
    "\tend\n",
    "\treturn EulerAngle([α, β, γ])\n",
    "end\n",
    "#Euler Angles to Rotation Matrix\n",
    "function Rotation(angle::EulerAngle)::Rotation\n",
    "\trx = [1 0 0;\n",
    "\t\t0 cos(angle.θ[1]) -sin(angle.θ[1]);\n",
    "\t\t0 sin(angle.θ[1]) cos(angle.θ[1])]\n",
    "\try = [cos(angle.θ[2]) 0 sin(angle.θ[2]);\n",
    "\t\t0 1 0;\n",
    "\t\t-sin(angle.θ[2]) 0 cos(angle.θ[2])]\n",
    "\trz = [cos(angle.θ[3]) -sin(angle.θ[3]) 0;\n",
    "\t\tsin(angle.θ[3]) cos(angle.θ[3]) 0;\n",
    "\t\t0 0 1]\n",
    "\treturn Rotation(rz*ry*rx) #Yaw, Pitch, Roll\n",
    "end"
   ]
  },
  {
   "cell_type": "markdown",
   "metadata": {},
   "source": [
    "### θ=0 is a singular point for transforming between axis angle and rotation matrix"
   ]
  },
  {
   "cell_type": "code",
   "execution_count": 6,
   "metadata": {},
   "outputs": [
    {
     "data": {
      "text/plain": [
       "Rotation"
      ]
     },
     "execution_count": 6,
     "metadata": {},
     "output_type": "execute_result"
    }
   ],
   "source": [
    "struct AxisAngle{T<:Real}\n",
    "\tr::AbstractVector{T}\n",
    "end\n",
    "\n",
    "#Rotation Matrix to Axis Angle\n",
    "function AxisAngle(r::Rotation)::AxisAngle\n",
    "\ta = - [r.matrix[2,3]-r.matrix[3,2], r.matrix[3,1]-r.matrix[1,3], r.matrix[1,2]-r.matrix[2,1]]\n",
    "\ta_norm = norm(a)\n",
    "\tr_trace = tr(r.matrix)\n",
    "\tθ = atan(a_norm, r_trace-1)\n",
    "\tif a_norm == 0 #singularity #1\n",
    "\t\treturn AxisAngle(a)\n",
    "\tend\n",
    "\tAxisAngle(θ*a/a_norm)\n",
    "end\n",
    "\n",
    "#Axis Angle to Rotation Matrix\n",
    "function Rotation(a::AxisAngle)::Rotation\n",
    "\tθ = norm(a.r)\n",
    "\tif θ == 0\n",
    "\t\treturn Rotation(Matrix(I,3,3)) #singularity #1\n",
    "\tend\n",
    "\tSθ = [0 -a.r[3] a.r[2]; a.r[3] 0 -a.r[1]; -a.r[2] a.r[1] 0]\n",
    "\tSr = Sθ / θ\n",
    "\tS_r = I + sin(θ)*Sr + (1-cos(θ))*(Sr)^2\n",
    "\tRotation(S_r)\n",
    "end\n",
    "\n"
   ]
  },
  {
   "cell_type": "markdown",
   "metadata": {},
   "source": [
    "### Both Euler Angles and Axis angle has singularities and discountinuities (2π and 0 are the same, this may screw up the gradients).\n",
    "### Similar to Rotation Matrix, Quaternion has no singularities or discountinuities. Plus Quaternion only has 4 parameters compared to 9 parameters in Rotation Matrix. Quaternions are almost minimal"
   ]
  },
  {
   "cell_type": "code",
   "execution_count": 7,
   "metadata": {},
   "outputs": [
    {
     "data": {
      "text/plain": [
       "Quaternion"
      ]
     },
     "execution_count": 7,
     "metadata": {},
     "output_type": "execute_result"
    }
   ],
   "source": [
    "struct Quaternion{T<:Real}\n",
    "\tqr::T\n",
    "\tqi::AbstractVector{T}\n",
    "end\n",
    "\n",
    "import Base: +,*\n",
    "import LinearAlgebra.inv\n",
    "function +(q::Quaternion, r::Quaternion)::Quaternion\n",
    "    Quaternion(q.qr+r.qr, q.qi+r.qi)\n",
    "end\n",
    "\n",
    "function *(q::Quaternion, r::Quaternion)::Quaternion #compose two rotation\n",
    "    pv = r.qr.*q.qi + q.qr*r.qi + cross(q.qi, r.qi)\n",
    "    Quaternion(q.qr*r.qr-dot(q.qi,r.qi), pv)\n",
    "end\n",
    "\n",
    "function inv(q::Quaternion)\n",
    "    Quaternion(q.qr, -q.qi)\n",
    "end\n",
    "\n",
    "function Quaternion(a::AxisAngle)::Quaternion\n",
    "\tθ = norm(a.r)\n",
    "\tr = a.r/θ\n",
    "\tQuaternion(cos(θ/2), sin(θ/2).*r)\n",
    "end"
   ]
  },
  {
   "cell_type": "code",
   "execution_count": 8,
   "metadata": {},
   "outputs": [
    {
     "data": {
      "text/plain": [
       "rotate (generic function with 3 methods)"
      ]
     },
     "execution_count": 8,
     "metadata": {},
     "output_type": "execute_result"
    }
   ],
   "source": [
    "function rotate(p::EuclidianCoord, r::Rotation)::EuclidianCoord\n",
    "    return EuclidianCoord(r.matrix * p.coord)\n",
    "end\n",
    "function rotate(p::EuclidianCoord, q::Quaternion)::EuclidianCoord\n",
    "    pq = Quaternion(0.0, p.coord)\n",
    "    p_result = q * pq * inv(q)\n",
    "    #@assert p_result.qr ≈ 0 \"$p_result\" #qi is very small, but may not pass the approx\n",
    "    return EuclidianCoord(p_result.qi)\n",
    "end\n",
    "function rotate(p::EuclidianCoord, r::AxisAngle)::EuclidianCoord\n",
    "    return rotate(p, Rotation(r))\n",
    "end"
   ]
  },
  {
   "cell_type": "code",
   "execution_count": 14,
   "metadata": {},
   "outputs": [
    {
     "data": {
      "text/plain": [
       "scale (generic function with 1 method)"
      ]
     },
     "execution_count": 14,
     "metadata": {},
     "output_type": "execute_result"
    }
   ],
   "source": [
    "function scale(p::EuclidianCoord, λ::Real)\n",
    "\treturn EuclidianCoord(p.coord.+λ)\n",
    "end"
   ]
  },
  {
   "cell_type": "markdown",
   "metadata": {},
   "source": [
    "### Test cases for euler, axis angle, and quaternion"
   ]
  },
  {
   "cell_type": "code",
   "execution_count": 11,
   "metadata": {},
   "outputs": [],
   "source": [
    "function assert_euler(θ::AbstractVector)\n",
    "    θs = EulerAngle(θ)\n",
    "    rot = Rotation(θs)\n",
    "    θs_back = EulerAngle(rot)\n",
    "    rot_again = Rotation(θs_back)\n",
    "    @assert rot.matrix ≈ rot_again.matrix\n",
    "    #@assert θs.θ ≈ θs_back.θ  \"$θs, $(θs_back.θ)\" #Euler angles are unique if the input is in range -π/2 to π/2 and β != +-90\n",
    "end\n",
    "assert_euler(rand(Uniform(-π/2,π/2), (3)))\n",
    "assert_euler([2, π/2, 1])"
   ]
  },
  {
   "cell_type": "code",
   "execution_count": 12,
   "metadata": {},
   "outputs": [],
   "source": [
    "function assert_axis_angle(v::AbstractVector)\n",
    "    ro = Rotation(AxisAngle(v))\n",
    "    axisangle = AxisAngle(ro)\n",
    "    ro_again = Rotation(axisangle)\n",
    "    @assert ro.matrix ≈ ro_again.matrix\n",
    "    @assert v ≈ axisangle.r \"$v, $axisangle\"\n",
    "end\n",
    "θ = rand(Uniform(-π,π), (1))\n",
    "v = rand(Uniform(0,1), (3))\n",
    "assert_axis_angle(θ .* v / norm(v))\n",
    "assert_axis_angle([π,0,0])"
   ]
  },
  {
   "cell_type": "code",
   "execution_count": 13,
   "metadata": {},
   "outputs": [],
   "source": [
    "θ1 = rand(Uniform(-π,π), (1))\n",
    "v1 = rand(Uniform(0,1), (3))\n",
    "a = AxisAngle(θ1 .* v1 / norm(v1))\n",
    "p = EuclidianCoord(rand(Uniform(0,1), (3)))\n",
    "p1 = rotate(p, a)\n",
    "p2 = rotate(p, Quaternion(a))\n",
    "p3 = rotate(p2, inv(Quaternion(a)))\n",
    "@assert p1.coord ≈ p2.coord \"$p1, $p2\"\n",
    "@assert p.coord ≈ p3.coord \"$p, $p3\""
   ]
  }
 ],
 "metadata": {
  "kernelspec": {
   "display_name": "Julia 1.5.3",
   "language": "julia",
   "name": "julia-1.5"
  },
  "language_info": {
   "file_extension": ".jl",
   "mimetype": "application/julia",
   "name": "julia",
   "version": "1.5.3"
  }
 },
 "nbformat": 4,
 "nbformat_minor": 4
}
