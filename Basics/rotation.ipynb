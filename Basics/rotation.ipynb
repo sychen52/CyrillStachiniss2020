{
 "cells": [
  {
   "cell_type": "markdown",
   "metadata": {},
   "source": [
    "This is a note for [3D Coordinates and Representations of Rotations (Cyrill Stachniss, 2020)](https://youtu.be/YXGUGSAv09A)"
   ]
  },
  {
   "cell_type": "code",
   "execution_count": 1,
   "metadata": {},
   "outputs": [],
   "source": [
    "using LinearAlgebra\n",
    "using Random\n",
    "using Distributions"
   ]
  },
  {
   "cell_type": "code",
   "execution_count": 2,
   "metadata": {},
   "outputs": [],
   "source": [
    "using NBInclude\n",
    "@nbinclude(\"../Basics/homogeneous_coordinates.ipynb\");\n",
    "#Import the EuclideanCoord\""
   ]
  },
  {
   "cell_type": "markdown",
   "metadata": {},
   "source": [
    "### Two properties of rotation matrix:\n",
    "1) det(r) == 1;\n",
    "2) inv(r) == transpose(r)"
   ]
  },
  {
   "cell_type": "code",
   "execution_count": 3,
   "metadata": {},
   "outputs": [],
   "source": [
    "function assert_rotation_matrix(m::AbstractMatrix)\n",
    "    @assert det(m) ≈ 1 \"det is $(det(m))\"\n",
    "    @assert transpose(m) * m ≈ I \"inv is $(inv(m)) and transpose is $(transpose(m))\"\n",
    "    #@assert all(norm(m, 1) .≈ 1) # this can be proved from the 2nd property\n",
    "end\n",
    "\n",
    "struct Rotation{T<:Real}\n",
    "    matrix::AbstractMatrix{T}\n",
    "    function Rotation(m::AbstractMatrix{T}) where {T}\n",
    "        assert_rotation_matrix(m)\n",
    "        new{T}(m)\n",
    "    end\n",
    "end\n",
    "\n",
    "# 2d toy example (2d euler to rotation matrix)\n",
    "function Rotation(θ::Real)::Rotation\n",
    "    return Rotation([cos(θ) -sin(θ); sin(θ) cos(θ)])\n",
    "end;"
   ]
  },
  {
   "cell_type": "markdown",
   "metadata": {},
   "source": [
    "### Euler Angle\n",
    "1) The order of yaw, pith, and roll **matters**\\\n",
    "2) **Sigularity**: cosβ=0 i.e. β=+-90 (\"Glimbal Lock\")\\\n",
    "3) Euler angles are unique given a rotation matrix, if the angle is in range -π to π.\n",
    "4) The rotation matrix is unique given euler angles"
   ]
  },
  {
   "cell_type": "code",
   "execution_count": 4,
   "metadata": {},
   "outputs": [],
   "source": [
    "struct EulerAngle{T<:Real}\n",
    "    θ::AbstractVector{T}\n",
    "end\n",
    "\n",
    "#Rotation Matrix to Euler angles\n",
    "function EulerAngle(r::Rotation)::EulerAngle\n",
    "    if r.matrix[3,2] == 0 && r.matrix[3,3] == 0\n",
    "        β = asin(-r.matrix[3,1])\n",
    "        α = 0\n",
    "        if r.matrix[3,1] < 0 #singularity #2\n",
    "            γ = atan(-r.matrix[1,2], r.matrix[1,3])\n",
    "        else\n",
    "            γ = atan(-r.matrix[1,2], -r.matrix[1,3])\n",
    "        end\n",
    "    else\n",
    "        α=atan(r.matrix[3,2], r.matrix[3,3])\n",
    "        β=atan(-r.matrix[3,1], √(r.matrix[3,2]^2+r.matrix[3,3]^2))\n",
    "        γ=atan(r.matrix[2,1], r.matrix[1,1])\n",
    "    end\n",
    "    return EulerAngle([α, β, γ])\n",
    "end\n",
    "#Euler Angles to Rotation Matrix\n",
    "function Rotation(angle::EulerAngle)::Rotation\n",
    "    rx = [1 0 0;\n",
    "        0 cos(angle.θ[1]) -sin(angle.θ[1]);\n",
    "        0 sin(angle.θ[1]) cos(angle.θ[1])]\n",
    "    ry = [cos(angle.θ[2]) 0 sin(angle.θ[2]);\n",
    "        0 1 0;\n",
    "        -sin(angle.θ[2]) 0 cos(angle.θ[2])]\n",
    "    rz = [cos(angle.θ[3]) -sin(angle.θ[3]) 0;\n",
    "        sin(angle.θ[3]) cos(angle.θ[3]) 0;\n",
    "        0 0 1]\n",
    "    return Rotation(rz*ry*rx) #Yaw, Pitch, Roll\n",
    "end;"
   ]
  },
  {
   "cell_type": "markdown",
   "metadata": {},
   "source": [
    "### Axis Angle\n",
    "1) **Singularity**: θ=0 (between axis angle and rotation matrix)"
   ]
  },
  {
   "cell_type": "code",
   "execution_count": 5,
   "metadata": {},
   "outputs": [],
   "source": [
    "struct AxisAngle{T<:Real}\n",
    "    r::AbstractVector{T}\n",
    "end\n",
    "\n",
    "#Rotation Matrix to Axis Angle\n",
    "function AxisAngle(r::Rotation)::AxisAngle\n",
    "    a = - [r.matrix[2,3]-r.matrix[3,2], r.matrix[3,1]-r.matrix[1,3], r.matrix[1,2]-r.matrix[2,1]]\n",
    "    a_norm = norm(a)\n",
    "    r_trace = tr(r.matrix)\n",
    "    θ = atan(a_norm, r_trace-1)\n",
    "    if a_norm == 0 #singularity #1\n",
    "        return AxisAngle(a)\n",
    "    end\n",
    "    AxisAngle(θ*a/a_norm)\n",
    "end\n",
    "\n",
    "#Axis Angle to Rotation Matrix\n",
    "function Rotation(a::AxisAngle)::Rotation\n",
    "    θ = norm(a.r)\n",
    "    if θ == 0\n",
    "        return Rotation(Matrix(I,3,3)) #singularity #1\n",
    "    end\n",
    "    Sθ = [0 -a.r[3] a.r[2]; a.r[3] 0 -a.r[1]; -a.r[2] a.r[1] 0]\n",
    "    Sr = Sθ / θ\n",
    "    S_r = I + sin(θ)*Sr + (1-cos(θ))*(Sr)^2\n",
    "    Rotation(S_r)\n",
    "end;"
   ]
  },
  {
   "cell_type": "markdown",
   "metadata": {},
   "source": [
    "### Quaternion\n",
    "1) Both Euler Angles and Axis angle has singularities and discountinuities (2π and 0 are the same, this may screw up the gradients).\n",
    "2) Similar to Rotation Matrix, Quaternion has no singularities or discountinuities\n",
    "3) Quaternion only has 4 parameters compared to 9 parameters in Rotation Matrix. Quaternions are almost minimal"
   ]
  },
  {
   "cell_type": "code",
   "execution_count": 6,
   "metadata": {},
   "outputs": [],
   "source": [
    "struct Quaternion{T<:Real}\n",
    "    real::T\n",
    "    imag::AbstractVector{T}\n",
    "end\n",
    "\n",
    "import Base: +,*\n",
    "import LinearAlgebra.inv\n",
    "function +(left::Quaternion, right::Quaternion)::Quaternion\n",
    "    Quaternion(left.real+right.real, left.imag+right.imag)\n",
    "end\n",
    "\n",
    "function *(left::Quaternion, right::Quaternion)::Quaternion #compose two rotation\n",
    "    imag = right.real.*left.imag + left.real*right.imag + cross(left.imag, right.imag)\n",
    "    Quaternion(left.real*right.real-dot(left.imag,right.imag), imag)\n",
    "end\n",
    "\n",
    "function inv(q::Quaternion)\n",
    "    Quaternion(q.real, -q.imag)\n",
    "end\n",
    "\n",
    "function Quaternion(a::AxisAngle)::Quaternion\n",
    "    θ = norm(a.r)\n",
    "    r = a.r/θ\n",
    "    Quaternion(cos(θ/2), sin(θ/2).*r)\n",
    "end;"
   ]
  },
  {
   "cell_type": "code",
   "execution_count": 7,
   "metadata": {},
   "outputs": [],
   "source": [
    "function rotate(p::EuclidianCoord, r::Rotation)::EuclidianCoord\n",
    "    return EuclidianCoord(r.matrix * p.coord)\n",
    "end\n",
    "function rotate(p::EuclidianCoord, q::Quaternion)::EuclidianCoord\n",
    "    pq = Quaternion(0.0, p.coord)\n",
    "    p_result = q * pq * inv(q)\n",
    "    #@assert p_result.real ≈ 0 \"$p_result\" #i is very small, but may not pass the approx\n",
    "    return EuclidianCoord(p_result.imag)\n",
    "end\n",
    "function rotate(p::EuclidianCoord, r::AxisAngle)::EuclidianCoord\n",
    "    return rotate(p, Rotation(r))\n",
    "end;"
   ]
  },
  {
   "cell_type": "code",
   "execution_count": 8,
   "metadata": {},
   "outputs": [],
   "source": [
    "function scale(p::EuclidianCoord, λ::Real)\n",
    "    return EuclidianCoord(p.coord.+λ)\n",
    "end;"
   ]
  },
  {
   "cell_type": "markdown",
   "metadata": {},
   "source": [
    "Test cases for euler, axis angle, and quaternion"
   ]
  },
  {
   "cell_type": "code",
   "execution_count": 9,
   "metadata": {},
   "outputs": [],
   "source": [
    "function assert_euler(θ::AbstractVector)\n",
    "    θs = EulerAngle(θ)\n",
    "    rot = Rotation(θs)\n",
    "    θs_back = EulerAngle(rot)\n",
    "    rot_again = Rotation(θs_back)\n",
    "    @assert rot.matrix ≈ rot_again.matrix\n",
    "    #@assert θs.θ ≈ θs_back.θ  \"$θs, $(θs_back.θ)\" #Euler angles are unique if the input is in range -π/2 to π/2 and β != +-90\n",
    "end\n",
    "assert_euler(rand(Uniform(-π/2,π/2), (3)))\n",
    "assert_euler([2, π/2, 1])"
   ]
  },
  {
   "cell_type": "code",
   "execution_count": 10,
   "metadata": {},
   "outputs": [],
   "source": [
    "function assert_axis_angle(v::AbstractVector)\n",
    "    ro = Rotation(AxisAngle(v))\n",
    "    axisangle = AxisAngle(ro)\n",
    "    ro_again = Rotation(axisangle)\n",
    "    @assert ro.matrix ≈ ro_again.matrix\n",
    "    @assert v ≈ axisangle.r \"$v, $axisangle\"\n",
    "end\n",
    "θ = rand(Uniform(-π,π), (1))\n",
    "v = rand(Uniform(0,1), (3))\n",
    "assert_axis_angle(θ .* v / norm(v))\n",
    "assert_axis_angle([π,0,0])"
   ]
  },
  {
   "cell_type": "code",
   "execution_count": 11,
   "metadata": {},
   "outputs": [],
   "source": [
    "θ1 = rand(Uniform(-π,π), (1))\n",
    "v1 = rand(Uniform(0,1), (3))\n",
    "a = AxisAngle(θ1 .* v1 / norm(v1))\n",
    "p = EuclidianCoord(rand(Uniform(0,1), (3)))\n",
    "p1 = rotate(p, a)\n",
    "p2 = rotate(p, Quaternion(a))\n",
    "p3 = rotate(p2, inv(Quaternion(a)))\n",
    "@assert p1.coord ≈ p2.coord \"$p1, $p2\"\n",
    "@assert p.coord ≈ p3.coord \"$p, $p3\""
   ]
  }
 ],
 "metadata": {
  "kernelspec": {
   "display_name": "Julia 1.5.3",
   "language": "julia",
   "name": "julia-1.5"
  },
  "language_info": {
   "file_extension": ".jl",
   "mimetype": "application/julia",
   "name": "julia",
   "version": "1.5.3"
  }
 },
 "nbformat": 4,
 "nbformat_minor": 4
}
