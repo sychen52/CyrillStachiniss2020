{
 "cells": [
  {
   "cell_type": "markdown",
   "metadata": {},
   "source": [
    "# This is a note for [Camera Parameters - Extrinsics and Intrinsics (Cyrill Stachniss, 2020)](https://youtu.be/uHApDqH-8UE)"
   ]
  },
  {
   "cell_type": "markdown",
   "metadata": {},
   "source": [
    "Personally, I prefer to setup the camera/image/sensor coordinate system as shown in the following [image](https://learnopencv.com/geometry-of-image-formation/). And I will use these coordinate system in this notebook.\n",
    "![camera](./camera.png)\n",
    "\n",
    "The ones used in the video are a bit confusing because there are two ways of forming the camera coordinate system in the video. One is at 6:20 and the image plane is behind the camera origin. The other one is at 23:19 and the z-axis is pointing away from the outside world. P.S. any of these two is good if you work out the math properly. But this is just a personal preference."
   ]
  },
  {
   "source": [
    "There are 4 coordinate system: world (3D) <-> camera (3D) -> image (2D) <-> sensor(2D)."
   ],
   "cell_type": "markdown",
   "metadata": {}
  },
  {
   "source": [
    "### world (3D) <-> camera (3D):\n",
    "This is a revertible rigid body transform.\n",
    "\n",
    "As a convention, the origin is at the pin hole, the image plane is in front of the pin hole instead of behind. This way, you do not need to flip the image. The z-axis is where the camera is pointing at. The x-axis and y-axis are pointing at the same direction of the x-axis and y-axis in the image coordinate system as well as the u and v in sensor coordinate system."
   ],
   "cell_type": "markdown",
   "metadata": {}
  },
  {
   "source": [
    "### camera (3D) -> image (2D):\n",
    "This is an centeral projection.\n",
    "\n",
    "In the camera coordinate system, there is a plane at z = f. This plane is the image coordinate system. This is why its x and y axis have the same direction as camera coordinate system.\n",
    "\n",
    "x_image = x_camera / z_camera * f\n",
    "\n",
    "y_image = y_camera / z_camera * f\n"
   ],
   "cell_type": "markdown",
   "metadata": {}
  },
  {
   "source": [
    "### image (2D) <-> sensor(2D):\n",
    "This is revertible transformation that may contain scale (x, y seperately), tranlation, skew.\n",
    "\n",
    "Since there is no rotation, the u and v have the same direction as x and y axis in image/camera coordinate. As a convension, u is point horizontally to the right in the image, and v is pointing vertically down.\n"
   ],
   "cell_type": "markdown",
   "metadata": {}
  },
  {
   "cell_type": "code",
   "execution_count": null,
   "metadata": {},
   "outputs": [],
   "source": []
  }
 ],
 "metadata": {
  "kernelspec": {
   "display_name": "Julia 1.5.3",
   "language": "julia",
   "name": "julia-1.5"
  },
  "language_info": {
   "file_extension": ".jl",
   "mimetype": "application/julia",
   "name": "julia",
   "version": "1.5.3"
  }
 },
 "nbformat": 4,
 "nbformat_minor": 4
}