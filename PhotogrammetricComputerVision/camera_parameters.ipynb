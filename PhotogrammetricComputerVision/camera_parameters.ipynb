{
 "cells": [
  {
   "cell_type": "markdown",
   "metadata": {},
   "source": [
    "# This is a note for [Camera Parameters - Extrinsics and Intrinsics (Cyrill Stachniss, 2020)](https://youtu.be/uHApDqH-8UE)"
   ]
  },
  {
   "cell_type": "markdown",
   "metadata": {},
   "source": [
    "Personally, I prefer to setup the camera/image/sensor coordinate system as shown in the following [image](https://learnopencv.com/geometry-of-image-formation/). And I will use these coordinate system in this notebook.\n",
    "![camera](./camera.png)\n",
    "\n",
    "The ones used in the video are a bit confusing because there are two ways of forming the camera coordinate system in the video. One is at 6:20 and the image plane is behind the camera origin. The other one is at 23:19 and the z-axis is pointing away from the outside world. P.S. any of these two is good if you work out the math properly. But this is just a personal preference."
   ]
  },
  {
   "cell_type": "markdown",
   "metadata": {},
   "source": [
    "There are 4 coordinate system: world (3D) <-> camera (3D) -> image (2D) <-> sensor(2D).\n",
    "\n",
    "Note: x_* are the euclidian coordinates, X_* are the homogeneous coordinates."
   ]
  },
  {
   "cell_type": "markdown",
   "metadata": {},
   "source": [
    "### world (3D) <-> camera (3D):\n",
    "This is a revertible rigid body transform.\n",
    "\n",
    "As a convention, the origin is at the pin hole, the image plane is in front of the pin hole instead of behind. This way, you do not need to flip the image. The z-axis is where the camera is pointing at. The x-axis and y-axis are pointing at the same direction of the x-axis and y-axis in the image coordinate system as well as the u and v in sensor coordinate system."
   ]
  },
  {
   "cell_type": "code",
   "execution_count": 1,
   "metadata": {},
   "outputs": [],
   "source": [
    "using NBInclude\n",
    "@nbinclude(\"../Basics/rotation.ipynb\")\n",
    "x_world = rand(Uniform(0,1), (3))\n",
    "X_world = HomogeneousCoord(EuclidianCoord(x_world)).coord\n",
    "R = Rotation(AxisAngle(rand(Uniform(0,1), (3)))).matrix\n",
    "t = rand(Uniform(0,1), (3))\n",
    "f = rand() # unit: mm\n",
    "ku, kv = rand(), rand() # unit: pixel/mm; this is the inverse of pixel spacing\n",
    "cu, cv = 128 * rand(), 128 * rand() # unit: pixel;\n",
    "s = rand(); # unit: pixel/mm"
   ]
  },
  {
   "cell_type": "markdown",
   "metadata": {},
   "source": [
    "R is rotation matrix\\\n",
    "**t is the coordinate of world origin in camera coordinate system**\\\n",
    "**-R_T \\* t is the coordinate of camera center (camera origin) in world coordinate system**"
   ]
  },
  {
   "cell_type": "code",
   "execution_count": 2,
   "metadata": {},
   "outputs": [],
   "source": [
    "x_camera = R * x_world + t\n",
    "X_camera = [R     t;\n",
    "            0 0 0 1] * X_world\n",
    "@assert HomogeneousCoord(EuclidianCoord(x_camera)) ≈ HomogeneousCoord(X_camera)\n",
    "R_T = transpose(R)\n",
    "O_center = - R_T * t\n",
    "x_world_back = R_T * x_camera + O_center\n",
    "@assert x_world == x_world"
   ]
  },
  {
   "cell_type": "markdown",
   "metadata": {},
   "source": [
    "### camera (3D) -> image (2D):\n",
    "This is an centeral projection.\n",
    "\n",
    "In the camera coordinate system, there is a plane at z = f. This plane is the image coordinate system and also where the sensor is (Note that this means **z is by defination perpendicular to sensor**.). This is why its x and y axis have the same direction as camera coordinate system.\n",
    "\n",
    "x_image = x_camera / z_camera * f\\\n",
    "y_image = y_camera / z_camera * f\\\n",
    "The unit of f is mm."
   ]
  },
  {
   "cell_type": "code",
   "execution_count": 3,
   "metadata": {},
   "outputs": [],
   "source": [
    "x_image = x_camera[1:2] * f / x_camera[3]\n",
    "X_image = [f 0 0 0;\n",
    "           0 f 0 0;\n",
    "           0 0 1 0] * X_camera\n",
    "@assert HomogeneousCoord(EuclidianCoord(x_image)) ≈ HomogeneousCoord(X_image)"
   ]
  },
  {
   "cell_type": "markdown",
   "metadata": {},
   "source": [
    "### image (2D) <-> sensor(2D):\n",
    "This is revertible transformation that may contain scale (x, y seperately), tranlation, skew.\n",
    "\n",
    "Since there is no rotation, the u and v have the same direction as x and y axis in image/camera coordinate. As a convension, u is point horizontally to the right in the image, and v is pointing vertically down.\n",
    "\n",
    "**[cu, cv] is the pixel coordinate of image origin (image center) in the sensor coordindate system**\\\n",
    "**The unit of cu and cv are pixel**\\\n",
    "The unit of ku, kv, and s are pixel/mm"
   ]
  },
  {
   "cell_type": "code",
   "execution_count": 4,
   "metadata": {},
   "outputs": [],
   "source": [
    "x_sensor = [ku; kv] .* x_image + s * [x_image[2];0] + [cu;cv]\n",
    "X_sensor = [ku s  cu;\n",
    "            0  kv cv;\n",
    "            0  0  1] * X_image\n",
    "@assert HomogeneousCoord(EuclidianCoord(x_sensor)) ≈ HomogeneousCoord(X_sensor)"
   ]
  },
  {
   "cell_type": "markdown",
   "metadata": {},
   "source": [
    "If we conbine the following two transformations, we get the intrinsic parameters:\\\n",
    "camera (3D) -> image (2D) <-> sensor(2D)\n",
    "\n",
    "**The unit of ku\\*f, kv\\*f, and s\\*f are also pixel**"
   ]
  },
  {
   "cell_type": "code",
   "execution_count": 5,
   "metadata": {},
   "outputs": [],
   "source": [
    "K = [ku*f s*f  cu;\n",
    "     0    kv*f cv;\n",
    "     0    0    1]\n",
    "X_sensor = [K zeros(3,1)] * X_camera\n",
    "@assert HomogeneousCoord(EuclidianCoord(x_sensor)) ≈ HomogeneousCoord(X_sensor)"
   ]
  },
  {
   "cell_type": "code",
   "execution_count": 6,
   "metadata": {},
   "outputs": [],
   "source": [
    "X_sensor = K * [R t] * X_world\n",
    "@assert HomogeneousCoord(EuclidianCoord(x_sensor)) ≈ HomogeneousCoord(X_sensor)"
   ]
  }
 ],
 "metadata": {
  "kernelspec": {
   "display_name": "Julia 1.5.3",
   "language": "julia",
   "name": "julia-1.5"
  },
  "language_info": {
   "file_extension": ".jl",
   "mimetype": "application/julia",
   "name": "julia",
   "version": "1.5.3"
  }
 },
 "nbformat": 4,
 "nbformat_minor": 4
}
