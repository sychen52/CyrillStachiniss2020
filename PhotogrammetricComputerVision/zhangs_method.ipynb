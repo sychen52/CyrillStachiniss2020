{
 "cells": [
  {
   "cell_type": "markdown",
   "metadata": {},
   "source": [
    "This is note of [Zhang's Method (Cyrill Stachniss)](https://www.youtube.com/embed/Ou9Uj75DJX0)"
   ]
  },
  {
   "cell_type": "markdown",
   "metadata": {},
   "source": [
    "DLT has no solution when all the world coords are on the same plane, while Zhang's method is for this case.\n",
    "\n",
    "Given **$M = 4$ or more pairs of world coord $\\boldsymbol{X_i}$ and image coord $\\boldsymbol{x_i}$, all on plane $Z = 0$, and from $N = 3$ or more viewing positions**, figure out intrinsic parameter $\\boldsymbol{K}$, Rotation matrix $\\boldsymbol{R}$, and projection center $\\boldsymbol{X_0}$.\n",
    "\n",
    "$$\n",
    "\\left[ \\begin{array} {c} x \\\\ y \\\\ 1 \\end{array} \\right] =\n",
    "\\boldsymbol{H}\n",
    "\\left[ \\begin{array} {c} X \\\\ Y \\\\ 1 \\end{array} \\right] =\n",
    "\\boldsymbol{K}\n",
    "\\left[ \\begin{array} {ccc} \\boldsymbol{r_1},  \\boldsymbol{r_2},  \\boldsymbol{t} \\end{array} \\right]\n",
    "\\left[ \\begin{array} {c} X \\\\ Y \\\\ 1 \\end{array} \\right]\n",
    "$$\n",
    "\n",
    "where $\\boldsymbol{r_3}=\\boldsymbol{r_1} \\times \\boldsymbol{r_2}$ and $\\boldsymbol{t}=-\\boldsymbol{RX_0}$.\n",
    "\n",
    "$\\boldsymbol{H}$ is a $3 \\times 3$ hetergeneous homography matrix with 8 dof. Follow SVD approach in DLT, all elements in $\\boldsymbol{H}$ can be figured out from 4 or more pairs of points.\n",
    "\n",
    "However, after that, we cannot use the QR decomposition trick because $\\left[ \\begin{array} {ccc} \\boldsymbol{r_1},  \\boldsymbol{r_2},  \\boldsymbol{t} \\end{array} \\right]$ is not an orthogonal matrix. And this is why we need 3 or more viewing positions to figure out $\\boldsymbol{K}$.\n",
    "\n",
    "$$\n",
    "\\boldsymbol{r_i} = \\boldsymbol{K}^{-1}\\boldsymbol{h_i} \\\\\n",
    "\\boldsymbol{r_1}^T\\boldsymbol{r_2} = 0 \\\\\n",
    "\\vert\\vert\\boldsymbol{r_1}\\vert\\vert-\\vert\\vert\\boldsymbol{r_2}\\vert\\vert = 0\n",
    "$$\n",
    "\n",
    "If we plug the first equation into the next two, we have only 6 unknowns on the upper diagnal of matrix $\\boldsymbol{B=K^{-T}K^{-1}}$. After this, we can do a Cholesky decomposition to get $\\boldsymbol{K}$. For each viewing position, we get 6 unknowns in linear 2 linear equations. This is why we need to stack 3 of these and use SVD to solve the unknowns.\n",
    "\n",
    "{%- include utterance_comments.html -%}"
   ]
  },
  {
   "cell_type": "code",
   "execution_count": null,
   "metadata": {},
   "outputs": [],
   "source": []
  }
 ],
 "metadata": {
  "kernelspec": {
   "display_name": "Julia 1.5.3",
   "language": "julia",
   "name": "julia-1.5"
  },
  "language_info": {
   "file_extension": ".jl",
   "mimetype": "application/julia",
   "name": "julia",
   "version": "1.5.3"
  }
 },
 "nbformat": 4,
 "nbformat_minor": 4
}
