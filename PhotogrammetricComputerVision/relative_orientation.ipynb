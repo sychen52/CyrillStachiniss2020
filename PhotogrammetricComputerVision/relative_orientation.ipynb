{
 "cells": [
  {
   "cell_type": "markdown",
   "metadata": {},
   "source": [
    "This is note of [Relative Orientation, Fundamental and Essential Matrix (Cyrill Stachniss, 2020)](https://youtu.be/gYYumFSDsvA) and [Epipolar Geometry Basics (Cyrill Stachniss, 2020)](https://youtu.be/cLeF-KNHgwU)"
   ]
  },
  {
   "cell_type": "markdown",
   "metadata": {},
   "source": [
    "The goal is to estimate relative orientation of two cameras with pairs of corresponding points from the two images."
   ]
  },
  {
   "cell_type": "markdown",
   "metadata": {},
   "source": [
    "With two calibrated camera (known intrinsics),\n",
    "- 6\\*2=12 total parameters,\n",
    "- 5 for relative orientation (RO)\n",
    "- 7 for absolute orientation (AO);\n",
    "    - the rotation and postion of the first camera\n",
    "    - the **distance between two cameras**\n",
    "- Therefore, we need 3+ more control points to estimate the AO.  \n",
    "\n",
    "With two uncalibrated camera,\n",
    "- 11\\*2=22 total parameters,\n",
    "- 7 for relative orientation (RO)\n",
    "- 15 for absolute orientation (AO);\n",
    "- therefore, we need 5 control points to estimate AO."
   ]
  },
  {
   "cell_type": "markdown",
   "metadata": {},
   "source": [
    "### Coplanarity Constraint\n",
    "The point in 3D, X, and the two projection center O' and O'' determines a plane. The two corresponding point x' and x'' are also on this plane. With this property, we can derive that\n",
    "$$x'^T  F  x'' = 0$$\n",
    "where $F = K'^{-T}R'S_bR''^TK''^{-1}$ is called fundimental matrix for uncalibrated cameras\n",
    "$$^kx'^T E ^kx'' = 0$$\n",
    "where $E = R'S_bR''^T$ is called essential matrix for calibrated cameras, where $^kx = K^{-1}x$ is the direction in camera frame."
   ]
  },
  {
   "cell_type": "markdown",
   "metadata": {},
   "source": [
    "*What direction in camera frame means*\n",
    "$$ X_{sensor} = [K,0] X_{camera}$$\n",
    "$$ x_{sensor} = \\alpha K x_{camera}$$\n",
    "$$ \\alpha x_{camera} = K^{-1} x_{sensor}$$\n"
   ]
  },
  {
   "cell_type": "markdown",
   "metadata": {},
   "source": [
    "### Epipolar Geometry\n",
    "- two image plane ($\\epsilon'$ and $\\epsilon''$)\n",
    "- epipolar axis ($b=(O'O'')$)\n",
    "- epipolar plane ($\\epsilon=(O'O''X)$)\n",
    "- epipole ($e'=b\\cap\\epsilon'$ and $e''=b\\cap\\epsilon''$)\n",
    "- epipolar lines ($l'=\\epsilon\\cap\\epsilon'$ $l'=Fx''$ and $l''=F^Tx'$)\n",
    "\n",
    "\n",
    "Reduce the search space from 2D to 1D. The corresponding point can only be on the epipolar line."
   ]
  },
  {
   "cell_type": "code",
   "execution_count": null,
   "metadata": {},
   "outputs": [],
   "source": []
  }
 ],
 "metadata": {
  "kernelspec": {
   "display_name": "Julia 1.5.3",
   "language": "julia",
   "name": "julia-1.5"
  },
  "language_info": {
   "file_extension": ".jl",
   "mimetype": "application/julia",
   "name": "julia",
   "version": "1.5.3"
  }
 },
 "nbformat": 4,
 "nbformat_minor": 4
}
